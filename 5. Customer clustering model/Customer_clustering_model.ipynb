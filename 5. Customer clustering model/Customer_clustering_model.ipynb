{
  "nbformat": 4,
  "nbformat_minor": 5,
  "metadata": {
    "kernelspec": {
      "display_name": "Python 3",
      "language": "python",
      "name": "python3"
    },
    "language_info": {
      "codemirror_mode": {
        "name": "ipython",
        "version": 3
      },
      "file_extension": ".py",
      "mimetype": "text/x-python",
      "name": "python",
      "nbconvert_exporter": "python",
      "pygments_lexer": "ipython3",
      "version": "3.9.1"
    },
    "colab": {
      "name": "Customer clustering model.ipynb",
      "provenance": [],
      "collapsed_sections": []
    }
  },
  "cells": [
    {
      "cell_type": "markdown",
      "metadata": {
        "id": "a4070932"
      },
      "source": [
        "# Telco Customer Churn\n",
        "---"
      ],
      "id": "a4070932"
    },
    {
      "cell_type": "markdown",
      "metadata": {
        "id": "466be66f"
      },
      "source": [
        "## 0. Introduction"
      ],
      "id": "466be66f"
    },
    {
      "cell_type": "markdown",
      "metadata": {
        "id": "1fd31d64"
      },
      "source": [
        "### 0.1 Objective\n",
        "\n",
        "To predict the behavior of customers who will be churn in the next month in order to retain those customers by analyze all relevant customer data and develop focused customer retention programs.\n",
        "\n",
        "\n",
        "### 0.2 Used data\n",
        "- Each row represents a customer.\n",
        "- Each column contains customer’s attributes.\n",
        "- The data set includes information about:\n",
        "    - Customers who left within the last month – the column is called Churn\n",
        "    - Services that each customer has signed up for – phone, multiple lines, internet, online security, online backup, device protection, tech support, and streaming TV and movies\n",
        "    - Customer account information – how long they’ve been a customer, contract, payment method, paperless billing, monthly charges, and total charges\n",
        "    - Demographic info about customers – gender, age range, and if they have partners and dependents\n",
        "- The used dataset was obtained in https://www.kaggle.com/blastchar/telco-customer-churn"
      ],
      "id": "1fd31d64"
    },
    {
      "cell_type": "markdown",
      "metadata": {
        "id": "eb4729e6"
      },
      "source": [
        "### 0.3 Hypothesis\n",
        "\n",
        "From Exploratory Data Analysis:\n",
        "\n",
        "<table>\n",
        "\t<thead>\n",
        "        <tr>\n",
        "\t\t\t<th colspan = \"4\" style=\"text-align:center;\">Hypotheses summary</th>\n",
        "\t\t</tr>\n",
        "\t\t<tr>\n",
        "\t\t\t<th>Group</th>\n",
        "\t\t\t<th>#</th>\n",
        "\t\t\t<th>Hypothesis</th>\n",
        "            <th>Result</th>\n",
        "\t\t</tr>\n",
        "\t</thead>\n",
        "\t<tbody>\n",
        "\t\t<tr style=\"background-color:#99a9cc;\">\n",
        "            <td rowspan=\"9\" style=\"background-color:#99a9cc;\"><strong>Services <br> informations</strong></td>\n",
        "\t\t\t<td><strong>H1</strong></td>\n",
        "\t\t\t<td style=\"background-color:#99a9cc;\">Customers with phone services are less likely to churn</td>\n",
        "            <td style=\"background-color:#32a852;\">Accepted</td> \n",
        "\t\t</tr>\n",
        "\t\t<tr style=\"background-color:#99a9cc;\">\n",
        "            <td><strong>H2</strong></td>\n",
        "\t\t\t<td>Customers with fewer phone lines are more likely to churn</td>\n",
        "            <td style=\"background-color:#eb4034;\">Rejected</td> \n",
        "\t\t</tr>\n",
        "\t\t<tr style=\"background-color:#99a9cc;\">\n",
        "            <td><strong>H3</strong></td>\n",
        "\t\t\t<td>Customers with internet services are more likely to churn</td>\n",
        "            <td style=\"background-color:#32a852;\">Accepted</td> \n",
        "\t\t</tr>\n",
        "\t\t<tr style=\"background-color:#99a9cc;\">\n",
        "            <td><strong>H4</strong></td>\n",
        "\t\t\t<td>Customers with online security service are more likely to churn</td>\n",
        "            <td style=\"background-color:#eb4034;\">Rejected</td> \n",
        "\t\t</tr>\n",
        "\t\t<tr style=\"background-color:#99a9cc;\">\n",
        "            <td><strong>H5</strong></td>\n",
        "\t\t\t<td>Customers with online backup service are more likely to churn</td>\n",
        "            <td style=\"background-color:#eb4034;\">Rejected</td> \n",
        "\t\t</tr>\n",
        "\t\t<tr style=\"background-color:#99a9cc;\">\n",
        "            <td><strong>H6</strong></td>\n",
        "\t\t\t<td>Customers with device protection service are more likely to churn</td>\n",
        "            <td style=\"background-color:#eb4034;\">Rejected</td> \n",
        "\t\t</tr>\n",
        "\t\t<tr style=\"background-color:#99a9cc;\">\n",
        "            <td><strong>H7</strong></td>\n",
        "\t\t\t<td>Customers with tech support service are more likely to churn</td>\n",
        "            <td style=\"background-color:#eb4034;\">Rejected</td> \n",
        "\t\t</tr>\n",
        "\t\t<tr style=\"background-color:#99a9cc;\">\n",
        "            <td><strong>H8</strong></td>\n",
        "\t\t\t<td>Customers with TV streaming service are more likely to churn</td>\n",
        "            <td style=\"background-color:#a8a7a7;\">-</td> \n",
        "\t\t</tr>\n",
        "\t\t<tr style=\"background-color:#99a9cc;\">\n",
        "            <td><strong>H9</strong></td>\n",
        "\t\t\t<td>Customers with movie streaming service are more likely to churn</td>\n",
        "            <td style=\"background-color:#a8a7a7;\">-</td> \n",
        "\t\t</tr>\n",
        "\t\t<tr style=\"background-color:#a3b1cf;\">\n",
        "            <td rowspan=\"6\"><strong>Customer <br> informations</strong></td>\n",
        "            <td><strong>H10</strong></td>\n",
        "\t\t\t<td>Customers with a longer relationship with the company are less likely to churn</td>\n",
        "            <td style=\"background-color:#32a852;\">Accepted</td> \n",
        "\t\t</tr>\n",
        "\t\t<tr style=\"background-color:#a3b1cf;\">\n",
        "            <td><strong>H11</strong></td>\n",
        "\t\t\t<td>Customers monthly contract are more likely to churn</td>\n",
        "            <td style=\"background-color:#32a852;\">Accepted</td> \n",
        "\t\t</tr>\n",
        "\t\t<tr style=\"background-color:#a3b1cf;\">\n",
        "            <td><strong>H12</strong></td>\n",
        "\t\t\t<td>Customers with paperless billing are more likely to churn</td>\n",
        "            <td style=\"background-color:#32a852;\">Accepted</td> \n",
        "\t\t</tr>\n",
        "\t\t<tr style=\"background-color:#a3b1cf;\">\n",
        "            <td><strong>H13</strong></td>\n",
        "\t\t\t<td>Customers with automatic payment methods are less likely to churn</td>\n",
        "            <td style=\"background-color:#32a852;\">Accepted</td> \n",
        "\t\t</tr>\n",
        "\t\t<tr style=\"background-color:#a3b1cf;\">\n",
        "            <td><strong>H14</strong></td>\n",
        "\t\t\t<td>Customers with less monthly expenses are less likely to churn</td>\n",
        "            <td style=\"background-color:#a8a7a7;\">-</td> \n",
        "\t\t</tr>\n",
        "\t\t<tr style=\"background-color:#a3b1cf;\">\n",
        "            <td><strong>H15</strong></td>\n",
        "\t\t\t<td>Customers with less total expenses are less likely to churn</td>\n",
        "            <td style=\"background-color:#a8a7a7;\">-</td> \n",
        "\t\t</tr>\n",
        "\t\t<tr style=\"background-color:#aeb9d1;\">\n",
        "\t\t\t<td rowspan=\"4\"><strong>Sociodemographic <br> informations</strong></td>\n",
        "            <td><strong>H16</strong></td>\n",
        "\t\t\t<td>Female customers are less likely to churn</td>\n",
        "            <td style=\"background-color:#a8a7a7;\">-</td> \n",
        "\t\t</tr>\n",
        "\t\t<tr style=\"background-color:#aeb9d1;\">\n",
        "            <td><strong>H17</strong></td>\n",
        "\t\t\t<td>Senior citizen customers are less likely to churn</td>\n",
        "            <td style=\"background-color:#eb4034;\">Rejected</td>\n",
        "\t\t</tr>\n",
        "\t\t<tr style=\"background-color:#aeb9d1;\">\n",
        "            <td><strong>H18</strong></td>\n",
        "\t\t\t<td>Customers with partners are more likely to churn</td>\n",
        "            <td style=\"background-color:#eb4034;\">Rejected</td>\n",
        "\t\t</tr>\n",
        "\t\t<tr style=\"background-color:#aeb9d1;\">\n",
        "            <td><strong>H19</strong></td>\n",
        "\t\t\t<td>Customers with dependents are more likely to churn</td>\n",
        "            <td style=\"background-color:#eb4034;\">Rejected</td>\n",
        "\t\t</tr>\n",
        "\t</tbody>\n",
        "</table>"
      ],
      "id": "eb4729e6"
    },
    {
      "cell_type": "markdown",
      "metadata": {
        "id": "9b502310"
      },
      "source": [
        "### 0.4 Methodology\n",
        "\n",
        "The methodology used in the analysis of this case will be the CRISP-DM, through the following division of scripts:\n",
        "1. Exploratory Data Analysis - Business and Data understanding\n",
        "2. Data pre-processing - Data preparation\n",
        "3. Statistical modeling of a churn propensity model - Modeling and Evaluation\n",
        "4. Statistical modeling of a regression model of the customer charge - Modeling and Evaluation\n",
        "5. Statistical modeling of a customer clustering model - Modeling and Evaluation\n",
        "\n",
        "This script refers to the fifth one on this list."
      ],
      "id": "9b502310"
    },
    {
      "cell_type": "markdown",
      "metadata": {
        "id": "3cfc4fa7"
      },
      "source": [
        "## 1. Packages and functions"
      ],
      "id": "3cfc4fa7"
    },
    {
      "cell_type": "markdown",
      "metadata": {
        "id": "cb92624b"
      },
      "source": [
        "### 1.1 Packages import"
      ],
      "id": "cb92624b"
    },
    {
      "cell_type": "code",
      "metadata": {
        "id": "0C3lMxJRuukh",
        "colab": {
          "base_uri": "https://localhost:8080/"
        },
        "outputId": "20ed7af3-3ca2-460f-804c-29d3a8a9bda5"
      },
      "source": [
        "import pandas as pd\n",
        "import numpy as np\n",
        "import seaborn as sns\n",
        "from matplotlib import pyplot as plt\n",
        "from google.colab import drive\n",
        "import warnings\n",
        "from sklearn.cluster import KMeans\n",
        "from sklearn.metrics import davies_bouldin_score\n",
        "from yellowbrick.cluster import KElbowVisualizer"
      ],
      "id": "0C3lMxJRuukh",
      "execution_count": null,
      "outputs": [
        {
          "output_type": "stream",
          "text": [
            "/usr/local/lib/python3.7/dist-packages/sklearn/utils/deprecation.py:144: FutureWarning: The sklearn.metrics.classification module is  deprecated in version 0.22 and will be removed in version 0.24. The corresponding classes / functions should instead be imported from sklearn.metrics. Anything that cannot be imported from sklearn.metrics is now part of the private API.\n",
            "  warnings.warn(message, FutureWarning)\n"
          ],
          "name": "stderr"
        }
      ]
    },
    {
      "cell_type": "markdown",
      "metadata": {
        "id": "2cfb76df"
      },
      "source": [
        "### 1.2 Configurations"
      ],
      "id": "2cfb76df"
    },
    {
      "cell_type": "code",
      "metadata": {
        "id": "87e71c01"
      },
      "source": [
        "pd.options.display.max_columns = None \n",
        "np.random.seed(10)\n",
        "seed = 10\n",
        "warnings.filterwarnings(\"ignore\")"
      ],
      "id": "87e71c01",
      "execution_count": null,
      "outputs": []
    },
    {
      "cell_type": "markdown",
      "metadata": {
        "id": "5a843bb8"
      },
      "source": [
        "## 2. Data gathering"
      ],
      "id": "5a843bb8"
    },
    {
      "cell_type": "markdown",
      "metadata": {
        "id": "04a79b7e"
      },
      "source": [
        "### 2.1 Importing data"
      ],
      "id": "04a79b7e"
    },
    {
      "cell_type": "code",
      "metadata": {
        "colab": {
          "base_uri": "https://localhost:8080/"
        },
        "id": "0R7tIB0oaKU-",
        "outputId": "85acc187-993c-48a4-af11-15f11f49d204"
      },
      "source": [
        "drive.mount('/content/drive/')"
      ],
      "id": "0R7tIB0oaKU-",
      "execution_count": null,
      "outputs": [
        {
          "output_type": "stream",
          "text": [
            "Mounted at /content/drive/\n"
          ],
          "name": "stdout"
        }
      ]
    },
    {
      "cell_type": "code",
      "metadata": {
        "colab": {
          "base_uri": "https://localhost:8080/",
          "height": 374
        },
        "id": "d986d4e6",
        "outputId": "3f49dbc1-0dfd-43b1-f57b-49f6559790f0"
      },
      "source": [
        "data = pd.read_csv('/content/drive/MyDrive/CHURN/Data/preprocessed_Telco_churn_data.csv', sep = ';', index_col = 0) # reading data from csv\n",
        "train_columns = list(data.columns)\n",
        "train_columns = [e for e in train_columns if e not in ('Churn', 'tenure_group_1', 'tenure_group_2', 'tenure_group_3', 'tenure_group_4', 'tenure_group_5+', 'TotalCharges')]\n",
        "data_clustering = data[train_columns]\n",
        "data_clustering.head() # show first 5 lines"
      ],
      "id": "d986d4e6",
      "execution_count": null,
      "outputs": [
        {
          "output_type": "execute_result",
          "data": {
            "text/html": [
              "<div>\n",
              "<style scoped>\n",
              "    .dataframe tbody tr th:only-of-type {\n",
              "        vertical-align: middle;\n",
              "    }\n",
              "\n",
              "    .dataframe tbody tr th {\n",
              "        vertical-align: top;\n",
              "    }\n",
              "\n",
              "    .dataframe thead th {\n",
              "        text-align: right;\n",
              "    }\n",
              "</style>\n",
              "<table border=\"1\" class=\"dataframe\">\n",
              "  <thead>\n",
              "    <tr style=\"text-align: right;\">\n",
              "      <th></th>\n",
              "      <th>SeniorCitizen</th>\n",
              "      <th>Partner</th>\n",
              "      <th>Dependents</th>\n",
              "      <th>tenure</th>\n",
              "      <th>PhoneService</th>\n",
              "      <th>MultipleLines</th>\n",
              "      <th>InternetService</th>\n",
              "      <th>OnlineSecurity</th>\n",
              "      <th>OnlineBackup</th>\n",
              "      <th>DeviceProtection</th>\n",
              "      <th>TechSupport</th>\n",
              "      <th>StreamingTV</th>\n",
              "      <th>StreamingMovies</th>\n",
              "      <th>PaperlessBilling</th>\n",
              "      <th>MonthlyCharges</th>\n",
              "      <th>female</th>\n",
              "      <th>Contract_Month-to-month</th>\n",
              "      <th>Contract_One year</th>\n",
              "      <th>Contract_Two year</th>\n",
              "      <th>PaymentMethod_Bank transfer (automatic)</th>\n",
              "      <th>PaymentMethod_Credit card (automatic)</th>\n",
              "      <th>PaymentMethod_Electronic check</th>\n",
              "      <th>PaymentMethod_Mailed check</th>\n",
              "      <th>InternetTechnology_DSL</th>\n",
              "      <th>InternetTechnology_Fiber optic</th>\n",
              "    </tr>\n",
              "    <tr>\n",
              "      <th>customerID</th>\n",
              "      <th></th>\n",
              "      <th></th>\n",
              "      <th></th>\n",
              "      <th></th>\n",
              "      <th></th>\n",
              "      <th></th>\n",
              "      <th></th>\n",
              "      <th></th>\n",
              "      <th></th>\n",
              "      <th></th>\n",
              "      <th></th>\n",
              "      <th></th>\n",
              "      <th></th>\n",
              "      <th></th>\n",
              "      <th></th>\n",
              "      <th></th>\n",
              "      <th></th>\n",
              "      <th></th>\n",
              "      <th></th>\n",
              "      <th></th>\n",
              "      <th></th>\n",
              "      <th></th>\n",
              "      <th></th>\n",
              "      <th></th>\n",
              "      <th></th>\n",
              "    </tr>\n",
              "  </thead>\n",
              "  <tbody>\n",
              "    <tr>\n",
              "      <th>7590-VHVEG</th>\n",
              "      <td>0</td>\n",
              "      <td>1</td>\n",
              "      <td>0</td>\n",
              "      <td>1</td>\n",
              "      <td>0</td>\n",
              "      <td>0.0</td>\n",
              "      <td>1</td>\n",
              "      <td>0.0</td>\n",
              "      <td>1.0</td>\n",
              "      <td>0.0</td>\n",
              "      <td>0.0</td>\n",
              "      <td>0.0</td>\n",
              "      <td>0.0</td>\n",
              "      <td>1</td>\n",
              "      <td>29.85</td>\n",
              "      <td>1</td>\n",
              "      <td>1</td>\n",
              "      <td>0</td>\n",
              "      <td>0</td>\n",
              "      <td>0</td>\n",
              "      <td>0</td>\n",
              "      <td>1</td>\n",
              "      <td>0</td>\n",
              "      <td>1</td>\n",
              "      <td>0</td>\n",
              "    </tr>\n",
              "    <tr>\n",
              "      <th>5575-GNVDE</th>\n",
              "      <td>0</td>\n",
              "      <td>0</td>\n",
              "      <td>0</td>\n",
              "      <td>34</td>\n",
              "      <td>1</td>\n",
              "      <td>0.0</td>\n",
              "      <td>1</td>\n",
              "      <td>1.0</td>\n",
              "      <td>0.0</td>\n",
              "      <td>1.0</td>\n",
              "      <td>0.0</td>\n",
              "      <td>0.0</td>\n",
              "      <td>0.0</td>\n",
              "      <td>0</td>\n",
              "      <td>56.95</td>\n",
              "      <td>0</td>\n",
              "      <td>0</td>\n",
              "      <td>1</td>\n",
              "      <td>0</td>\n",
              "      <td>0</td>\n",
              "      <td>0</td>\n",
              "      <td>0</td>\n",
              "      <td>1</td>\n",
              "      <td>1</td>\n",
              "      <td>0</td>\n",
              "    </tr>\n",
              "    <tr>\n",
              "      <th>3668-QPYBK</th>\n",
              "      <td>0</td>\n",
              "      <td>0</td>\n",
              "      <td>0</td>\n",
              "      <td>2</td>\n",
              "      <td>1</td>\n",
              "      <td>0.0</td>\n",
              "      <td>1</td>\n",
              "      <td>1.0</td>\n",
              "      <td>1.0</td>\n",
              "      <td>0.0</td>\n",
              "      <td>0.0</td>\n",
              "      <td>0.0</td>\n",
              "      <td>0.0</td>\n",
              "      <td>1</td>\n",
              "      <td>53.85</td>\n",
              "      <td>0</td>\n",
              "      <td>1</td>\n",
              "      <td>0</td>\n",
              "      <td>0</td>\n",
              "      <td>0</td>\n",
              "      <td>0</td>\n",
              "      <td>0</td>\n",
              "      <td>1</td>\n",
              "      <td>1</td>\n",
              "      <td>0</td>\n",
              "    </tr>\n",
              "    <tr>\n",
              "      <th>7795-CFOCW</th>\n",
              "      <td>0</td>\n",
              "      <td>0</td>\n",
              "      <td>0</td>\n",
              "      <td>45</td>\n",
              "      <td>0</td>\n",
              "      <td>0.0</td>\n",
              "      <td>1</td>\n",
              "      <td>1.0</td>\n",
              "      <td>0.0</td>\n",
              "      <td>1.0</td>\n",
              "      <td>1.0</td>\n",
              "      <td>0.0</td>\n",
              "      <td>0.0</td>\n",
              "      <td>0</td>\n",
              "      <td>42.30</td>\n",
              "      <td>0</td>\n",
              "      <td>0</td>\n",
              "      <td>1</td>\n",
              "      <td>0</td>\n",
              "      <td>1</td>\n",
              "      <td>0</td>\n",
              "      <td>0</td>\n",
              "      <td>0</td>\n",
              "      <td>1</td>\n",
              "      <td>0</td>\n",
              "    </tr>\n",
              "    <tr>\n",
              "      <th>9237-HQITU</th>\n",
              "      <td>0</td>\n",
              "      <td>0</td>\n",
              "      <td>0</td>\n",
              "      <td>2</td>\n",
              "      <td>1</td>\n",
              "      <td>0.0</td>\n",
              "      <td>1</td>\n",
              "      <td>0.0</td>\n",
              "      <td>0.0</td>\n",
              "      <td>0.0</td>\n",
              "      <td>0.0</td>\n",
              "      <td>0.0</td>\n",
              "      <td>0.0</td>\n",
              "      <td>1</td>\n",
              "      <td>70.70</td>\n",
              "      <td>1</td>\n",
              "      <td>1</td>\n",
              "      <td>0</td>\n",
              "      <td>0</td>\n",
              "      <td>0</td>\n",
              "      <td>0</td>\n",
              "      <td>1</td>\n",
              "      <td>0</td>\n",
              "      <td>0</td>\n",
              "      <td>1</td>\n",
              "    </tr>\n",
              "  </tbody>\n",
              "</table>\n",
              "</div>"
            ],
            "text/plain": [
              "            SeniorCitizen  Partner  Dependents  tenure  PhoneService  \\\n",
              "customerID                                                             \n",
              "7590-VHVEG              0        1           0       1             0   \n",
              "5575-GNVDE              0        0           0      34             1   \n",
              "3668-QPYBK              0        0           0       2             1   \n",
              "7795-CFOCW              0        0           0      45             0   \n",
              "9237-HQITU              0        0           0       2             1   \n",
              "\n",
              "            MultipleLines  InternetService  OnlineSecurity  OnlineBackup  \\\n",
              "customerID                                                                 \n",
              "7590-VHVEG            0.0                1             0.0           1.0   \n",
              "5575-GNVDE            0.0                1             1.0           0.0   \n",
              "3668-QPYBK            0.0                1             1.0           1.0   \n",
              "7795-CFOCW            0.0                1             1.0           0.0   \n",
              "9237-HQITU            0.0                1             0.0           0.0   \n",
              "\n",
              "            DeviceProtection  TechSupport  StreamingTV  StreamingMovies  \\\n",
              "customerID                                                                \n",
              "7590-VHVEG               0.0          0.0          0.0              0.0   \n",
              "5575-GNVDE               1.0          0.0          0.0              0.0   \n",
              "3668-QPYBK               0.0          0.0          0.0              0.0   \n",
              "7795-CFOCW               1.0          1.0          0.0              0.0   \n",
              "9237-HQITU               0.0          0.0          0.0              0.0   \n",
              "\n",
              "            PaperlessBilling  MonthlyCharges  female  Contract_Month-to-month  \\\n",
              "customerID                                                                      \n",
              "7590-VHVEG                 1           29.85       1                        1   \n",
              "5575-GNVDE                 0           56.95       0                        0   \n",
              "3668-QPYBK                 1           53.85       0                        1   \n",
              "7795-CFOCW                 0           42.30       0                        0   \n",
              "9237-HQITU                 1           70.70       1                        1   \n",
              "\n",
              "            Contract_One year  Contract_Two year  \\\n",
              "customerID                                         \n",
              "7590-VHVEG                  0                  0   \n",
              "5575-GNVDE                  1                  0   \n",
              "3668-QPYBK                  0                  0   \n",
              "7795-CFOCW                  1                  0   \n",
              "9237-HQITU                  0                  0   \n",
              "\n",
              "            PaymentMethod_Bank transfer (automatic)  \\\n",
              "customerID                                            \n",
              "7590-VHVEG                                        0   \n",
              "5575-GNVDE                                        0   \n",
              "3668-QPYBK                                        0   \n",
              "7795-CFOCW                                        1   \n",
              "9237-HQITU                                        0   \n",
              "\n",
              "            PaymentMethod_Credit card (automatic)  \\\n",
              "customerID                                          \n",
              "7590-VHVEG                                      0   \n",
              "5575-GNVDE                                      0   \n",
              "3668-QPYBK                                      0   \n",
              "7795-CFOCW                                      0   \n",
              "9237-HQITU                                      0   \n",
              "\n",
              "            PaymentMethod_Electronic check  PaymentMethod_Mailed check  \\\n",
              "customerID                                                               \n",
              "7590-VHVEG                               1                           0   \n",
              "5575-GNVDE                               0                           1   \n",
              "3668-QPYBK                               0                           1   \n",
              "7795-CFOCW                               0                           0   \n",
              "9237-HQITU                               1                           0   \n",
              "\n",
              "            InternetTechnology_DSL  InternetTechnology_Fiber optic  \n",
              "customerID                                                          \n",
              "7590-VHVEG                       1                               0  \n",
              "5575-GNVDE                       1                               0  \n",
              "3668-QPYBK                       1                               0  \n",
              "7795-CFOCW                       1                               0  \n",
              "9237-HQITU                       0                               1  "
            ]
          },
          "metadata": {
            "tags": []
          },
          "execution_count": 7
        }
      ]
    },
    {
      "cell_type": "markdown",
      "metadata": {
        "id": "8kM7Uz6zNk7f"
      },
      "source": [
        "## 3. Customer clustering model"
      ],
      "id": "8kM7Uz6zNk7f"
    },
    {
      "cell_type": "markdown",
      "metadata": {
        "id": "cqV3qGaLNp4Y"
      },
      "source": [
        "### 3.1 Optimal number of clustering\n",
        "\n",
        "To define the optimal number of clusters, I will start training some k-means clustering model with k = 2 to k = 10. With this, we were able to use metrics like WCSS to draw an elbow curve and Davies Bouldin analysis."
      ],
      "id": "cqV3qGaLNp4Y"
    },
    {
      "cell_type": "code",
      "metadata": {
        "id": "k95KTLHDBmFM"
      },
      "source": [
        "# training a k-means clustering model from k- 2 to k = 10\n",
        "wcss = []\n",
        "davies_bouldin = []\n",
        "K = range(2,10)\n",
        "for k in K:\n",
        "  kmeans = KMeans(n_clusters=k, random_state=seed)\n",
        "  kmeans.fit(data_clustering)\n",
        "  wcss.append(kmeans.inertia_)\n",
        "  davies_bouldin.append(davies_bouldin_score(data, kmeans.labels_))"
      ],
      "id": "k95KTLHDBmFM",
      "execution_count": null,
      "outputs": []
    },
    {
      "cell_type": "code",
      "metadata": {
        "colab": {
          "base_uri": "https://localhost:8080/",
          "height": 349
        },
        "id": "kLYqAMXiBmJQ",
        "outputId": "d084cd09-7f82-4b07-c4f8-a762899fcb96"
      },
      "source": [
        "plt.figure(figsize= (16, 5))\n",
        "\n",
        "plt.subplot(1, 2, 1)\n",
        "# plot an elbow curve\n",
        "plt.plot(K, wcss, 'bo--')\n",
        "plt.xlabel('clusters')\n",
        "plt.ylabel('WCSS')\n",
        "plt.title('Elbow method')\n",
        "\n",
        "plt.subplot(1, 2, 2)\n",
        "# Davies Bouldin analysis\n",
        "plt.plot(K,davies_bouldin)\n",
        "plt.ylabel('Davies Bouldin')\n",
        "plt.xlabel('k')\n",
        "plt.title('Davies Bouldin analysis')\n",
        "plt.show()"
      ],
      "id": "kLYqAMXiBmJQ",
      "execution_count": null,
      "outputs": [
        {
          "output_type": "display_data",
          "data": {
            "image/png": "[encoded data removed]",
            "text/plain": [
              "<Figure size 1152x360 with 2 Axes>"
            ]
          },
          "metadata": {
            "tags": [],
            "needs_background": "light"
          }
        }
      ]
    },
    {
      "cell_type": "markdown",
      "metadata": {
        "id": "SD_3DQ5FO989"
      },
      "source": [
        "From the elbow method, the optimal number of clusters is 4. The Davies Bouldin analysis returns that an optimal number of clusters is 2 or 4.\n",
        "\n",
        "So, I will use 4 clusters in this analysis. "
      ],
      "id": "SD_3DQ5FO989"
    },
    {
      "cell_type": "markdown",
      "metadata": {
        "id": "pEH1PhSZPcdx"
      },
      "source": [
        "### 3.2 Clustering model\n"
      ],
      "id": "pEH1PhSZPcdx"
    },
    {
      "cell_type": "code",
      "metadata": {
        "id": "mSnRhlmoBmVx"
      },
      "source": [
        "# train model\n",
        "kmeans = KMeans(n_clusters=4, random_state=seed)\n",
        "kmeans = kmeans.fit(data)"
      ],
      "id": "mSnRhlmoBmVx",
      "execution_count": null,
      "outputs": []
    },
    {
      "cell_type": "code",
      "metadata": {
        "id": "KuI8OyfmEh68"
      },
      "source": [
        "data_clustering['cluster'] = kmeans.predict(data) # makes the prediction"
      ],
      "id": "KuI8OyfmEh68",
      "execution_count": null,
      "outputs": []
    },
    {
      "cell_type": "markdown",
      "metadata": {
        "id": "Y3U59sxKSH7A"
      },
      "source": [
        "### 3.3 Clustering results"
      ],
      "id": "Y3U59sxKSH7A"
    },
    {
      "cell_type": "code",
      "metadata": {
        "colab": {
          "base_uri": "https://localhost:8080/",
          "height": 299
        },
        "id": "nx2dH70mSUJW",
        "outputId": "a08d6b09-e594-4c3b-8a32-1456a4623ad3"
      },
      "source": [
        "# count the customers in each cluster\n",
        "plt.figure(figsize= (10, 4))\n",
        "ax = sns.countplot(data= data_clustering, x= 'cluster')\n",
        "plt.title('Customers per cluster', fontsize=16)\n",
        "plt.xlabel('Cluster', fontsize=12)\n",
        "plt.ylabel('Customers', fontsize=12)\n",
        "for p in ax.patches:\n",
        "    ax.annotate(f'\\n{p.get_height()}', (p.get_x()+0.4, p.get_height()), ha='center', va='top', color='white', size=16)\n",
        "plt.show()"
      ],
      "id": "nx2dH70mSUJW",
      "execution_count": null,
      "outputs": [
        {
          "output_type": "display_data",
          "data": {
            "image/png": "[encoded data removed]",
            "text/plain": [
              "<Figure size 720x288 with 1 Axes>"
            ]
          },
          "metadata": {
            "tags": [],
            "needs_background": "light"
          }
        }
      ]
    },
    {
      "cell_type": "markdown",
      "metadata": {
        "id": "Iv7wVweIUDQH"
      },
      "source": [
        "### 3.4 Clustering characterization"
      ],
      "id": "Iv7wVweIUDQH"
    },
    {
      "cell_type": "code",
      "metadata": {
        "id": "ODq81OKAHF8N"
      },
      "source": [
        "# get churn information for customers\n",
        "data_clustering['Churn'] = data['Churn']"
      ],
      "id": "ODq81OKAHF8N",
      "execution_count": null,
      "outputs": []
    },
    {
      "cell_type": "code",
      "metadata": {
        "colab": {
          "base_uri": "https://localhost:8080/",
          "height": 586
        },
        "id": "f8cl4PJwGTQX",
        "outputId": "88dd6db7-7410-4d4d-b5cb-248ffe14a006"
      },
      "source": [
        "# get the mean of each column by cluster\n",
        "data_clustering.groupby('cluster').mean().T.style.highlight_max(color = 'lightgreen', axis = 1)"
      ],
      "id": "f8cl4PJwGTQX",
      "execution_count": null,
      "outputs": [
        {
          "output_type": "execute_result",
          "data": {
            "text/html": [
              "<style  type=\"text/css\" >\n",
              "#T_0080421c_d126_11eb_b765_0242ac1c0002row0_col1,#T_0080421c_d126_11eb_b765_0242ac1c0002row1_col1,#T_0080421c_d126_11eb_b765_0242ac1c0002row2_col1,#T_0080421c_d126_11eb_b765_0242ac1c0002row3_col1,#T_0080421c_d126_11eb_b765_0242ac1c0002row4_col1,#T_0080421c_d126_11eb_b765_0242ac1c0002row5_col1,#T_0080421c_d126_11eb_b765_0242ac1c0002row6_col1,#T_0080421c_d126_11eb_b765_0242ac1c0002row6_col3,#T_0080421c_d126_11eb_b765_0242ac1c0002row7_col1,#T_0080421c_d126_11eb_b765_0242ac1c0002row8_col1,#T_0080421c_d126_11eb_b765_0242ac1c0002row9_col1,#T_0080421c_d126_11eb_b765_0242ac1c0002row10_col1,#T_0080421c_d126_11eb_b765_0242ac1c0002row11_col1,#T_0080421c_d126_11eb_b765_0242ac1c0002row12_col1,#T_0080421c_d126_11eb_b765_0242ac1c0002row13_col1,#T_0080421c_d126_11eb_b765_0242ac1c0002row14_col1,#T_0080421c_d126_11eb_b765_0242ac1c0002row15_col1,#T_0080421c_d126_11eb_b765_0242ac1c0002row16_col2,#T_0080421c_d126_11eb_b765_0242ac1c0002row17_col3,#T_0080421c_d126_11eb_b765_0242ac1c0002row18_col1,#T_0080421c_d126_11eb_b765_0242ac1c0002row19_col1,#T_0080421c_d126_11eb_b765_0242ac1c0002row20_col1,#T_0080421c_d126_11eb_b765_0242ac1c0002row21_col2,#T_0080421c_d126_11eb_b765_0242ac1c0002row22_col2,#T_0080421c_d126_11eb_b765_0242ac1c0002row23_col3,#T_0080421c_d126_11eb_b765_0242ac1c0002row24_col1,#T_0080421c_d126_11eb_b765_0242ac1c0002row25_col2{\n",
              "            background-color:  lightgreen;\n",
              "        }</style><table id=\"T_0080421c_d126_11eb_b765_0242ac1c0002\" ><thead>    <tr>        <th class=\"index_name level0\" >cluster</th>        <th class=\"col_heading level0 col0\" >0</th>        <th class=\"col_heading level0 col1\" >1</th>        <th class=\"col_heading level0 col2\" >2</th>        <th class=\"col_heading level0 col3\" >3</th>    </tr></thead><tbody>\n",
              "                <tr>\n",
              "                        <th id=\"T_0080421c_d126_11eb_b765_0242ac1c0002level0_row0\" class=\"row_heading level0 row0\" >SeniorCitizen</th>\n",
              "                        <td id=\"T_0080421c_d126_11eb_b765_0242ac1c0002row0_col0\" class=\"data row0 col0\" >0.177163</td>\n",
              "                        <td id=\"T_0080421c_d126_11eb_b765_0242ac1c0002row0_col1\" class=\"data row0 col1\" >0.216855</td>\n",
              "                        <td id=\"T_0080421c_d126_11eb_b765_0242ac1c0002row0_col2\" class=\"data row0 col2\" >0.120955</td>\n",
              "                        <td id=\"T_0080421c_d126_11eb_b765_0242ac1c0002row0_col3\" class=\"data row0 col3\" >0.206229</td>\n",
              "            </tr>\n",
              "            <tr>\n",
              "                        <th id=\"T_0080421c_d126_11eb_b765_0242ac1c0002level0_row1\" class=\"row_heading level0 row1\" >Partner</th>\n",
              "                        <td id=\"T_0080421c_d126_11eb_b765_0242ac1c0002row1_col0\" class=\"data row1 col0\" >0.529723</td>\n",
              "                        <td id=\"T_0080421c_d126_11eb_b765_0242ac1c0002row1_col1\" class=\"data row1 col1\" >0.761562</td>\n",
              "                        <td id=\"T_0080421c_d126_11eb_b765_0242ac1c0002row1_col2\" class=\"data row1 col2\" >0.323280</td>\n",
              "                        <td id=\"T_0080421c_d126_11eb_b765_0242ac1c0002row1_col3\" class=\"data row1 col3\" >0.616162</td>\n",
              "            </tr>\n",
              "            <tr>\n",
              "                        <th id=\"T_0080421c_d126_11eb_b765_0242ac1c0002level0_row2\" class=\"row_heading level0 row2\" >Dependents</th>\n",
              "                        <td id=\"T_0080421c_d126_11eb_b765_0242ac1c0002row2_col0\" class=\"data row2 col0\" >0.305474</td>\n",
              "                        <td id=\"T_0080421c_d126_11eb_b765_0242ac1c0002row2_col1\" class=\"data row2 col1\" >0.339157</td>\n",
              "                        <td id=\"T_0080421c_d126_11eb_b765_0242ac1c0002row2_col2\" class=\"data row2 col2\" >0.270814</td>\n",
              "                        <td id=\"T_0080421c_d126_11eb_b765_0242ac1c0002row2_col3\" class=\"data row2 col3\" >0.335859</td>\n",
              "            </tr>\n",
              "            <tr>\n",
              "                        <th id=\"T_0080421c_d126_11eb_b765_0242ac1c0002level0_row3\" class=\"row_heading level0 row3\" >tenure</th>\n",
              "                        <td id=\"T_0080421c_d126_11eb_b765_0242ac1c0002row3_col0\" class=\"data row3 col0\" >37.401413</td>\n",
              "                        <td id=\"T_0080421c_d126_11eb_b765_0242ac1c0002row3_col1\" class=\"data row3 col1\" >66.285714</td>\n",
              "                        <td id=\"T_0080421c_d126_11eb_b765_0242ac1c0002row3_col2\" class=\"data row3 col2\" >11.959158</td>\n",
              "                        <td id=\"T_0080421c_d126_11eb_b765_0242ac1c0002row3_col3\" class=\"data row3 col3\" >52.090067</td>\n",
              "            </tr>\n",
              "            <tr>\n",
              "                        <th id=\"T_0080421c_d126_11eb_b765_0242ac1c0002level0_row4\" class=\"row_heading level0 row4\" >PhoneService</th>\n",
              "                        <td id=\"T_0080421c_d126_11eb_b765_0242ac1c0002row4_col0\" class=\"data row4 col0\" >0.865803</td>\n",
              "                        <td id=\"T_0080421c_d126_11eb_b765_0242ac1c0002row4_col1\" class=\"data row4 col1\" >1.000000</td>\n",
              "                        <td id=\"T_0080421c_d126_11eb_b765_0242ac1c0002row4_col2\" class=\"data row4 col2\" >0.890983</td>\n",
              "                        <td id=\"T_0080421c_d126_11eb_b765_0242ac1c0002row4_col3\" class=\"data row4 col3\" >0.909933</td>\n",
              "            </tr>\n",
              "            <tr>\n",
              "                        <th id=\"T_0080421c_d126_11eb_b765_0242ac1c0002level0_row5\" class=\"row_heading level0 row5\" >MultipleLines</th>\n",
              "                        <td id=\"T_0080421c_d126_11eb_b765_0242ac1c0002row5_col0\" class=\"data row5 col0\" >0.448499</td>\n",
              "                        <td id=\"T_0080421c_d126_11eb_b765_0242ac1c0002row5_col1\" class=\"data row5 col1\" >0.854060</td>\n",
              "                        <td id=\"T_0080421c_d126_11eb_b765_0242ac1c0002row5_col2\" class=\"data row5 col2\" >0.209865</td>\n",
              "                        <td id=\"T_0080421c_d126_11eb_b765_0242ac1c0002row5_col3\" class=\"data row5 col3\" >0.597643</td>\n",
              "            </tr>\n",
              "            <tr>\n",
              "                        <th id=\"T_0080421c_d126_11eb_b765_0242ac1c0002level0_row6\" class=\"row_heading level0 row6\" >InternetService</th>\n",
              "                        <td id=\"T_0080421c_d126_11eb_b765_0242ac1c0002row6_col0\" class=\"data row6 col0\" >0.797528</td>\n",
              "                        <td id=\"T_0080421c_d126_11eb_b765_0242ac1c0002row6_col1\" class=\"data row6 col1\" >1.000000</td>\n",
              "                        <td id=\"T_0080421c_d126_11eb_b765_0242ac1c0002row6_col2\" class=\"data row6 col2\" >0.628652</td>\n",
              "                        <td id=\"T_0080421c_d126_11eb_b765_0242ac1c0002row6_col3\" class=\"data row6 col3\" >1.000000</td>\n",
              "            </tr>\n",
              "            <tr>\n",
              "                        <th id=\"T_0080421c_d126_11eb_b765_0242ac1c0002level0_row7\" class=\"row_heading level0 row7\" >OnlineSecurity</th>\n",
              "                        <td id=\"T_0080421c_d126_11eb_b765_0242ac1c0002row7_col0\" class=\"data row7 col0\" >0.285462</td>\n",
              "                        <td id=\"T_0080421c_d126_11eb_b765_0242ac1c0002row7_col1\" class=\"data row7 col1\" >0.598150</td>\n",
              "                        <td id=\"T_0080421c_d126_11eb_b765_0242ac1c0002row7_col2\" class=\"data row7 col2\" >0.116243</td>\n",
              "                        <td id=\"T_0080421c_d126_11eb_b765_0242ac1c0002row7_col3\" class=\"data row7 col3\" >0.489899</td>\n",
              "            </tr>\n",
              "            <tr>\n",
              "                        <th id=\"T_0080421c_d126_11eb_b765_0242ac1c0002level0_row8\" class=\"row_heading level0 row8\" >OnlineBackup</th>\n",
              "                        <td id=\"T_0080421c_d126_11eb_b765_0242ac1c0002row8_col0\" class=\"data row8 col0\" >0.328428</td>\n",
              "                        <td id=\"T_0080421c_d126_11eb_b765_0242ac1c0002row8_col1\" class=\"data row8 col1\" >0.780062</td>\n",
              "                        <td id=\"T_0080421c_d126_11eb_b765_0242ac1c0002row8_col2\" class=\"data row8 col2\" >0.133208</td>\n",
              "                        <td id=\"T_0080421c_d126_11eb_b765_0242ac1c0002row8_col3\" class=\"data row8 col3\" >0.579125</td>\n",
              "            </tr>\n",
              "            <tr>\n",
              "                        <th id=\"T_0080421c_d126_11eb_b765_0242ac1c0002level0_row9\" class=\"row_heading level0 row9\" >DeviceProtection</th>\n",
              "                        <td id=\"T_0080421c_d126_11eb_b765_0242ac1c0002row9_col0\" class=\"data row9 col0\" >0.320188</td>\n",
              "                        <td id=\"T_0080421c_d126_11eb_b765_0242ac1c0002row9_col1\" class=\"data row9 col1\" >0.772867</td>\n",
              "                        <td id=\"T_0080421c_d126_11eb_b765_0242ac1c0002row9_col2\" class=\"data row9 col2\" >0.130066</td>\n",
              "                        <td id=\"T_0080421c_d126_11eb_b765_0242ac1c0002row9_col3\" class=\"data row9 col3\" >0.599327</td>\n",
              "            </tr>\n",
              "            <tr>\n",
              "                        <th id=\"T_0080421c_d126_11eb_b765_0242ac1c0002level0_row10\" class=\"row_heading level0 row10\" >TechSupport</th>\n",
              "                        <td id=\"T_0080421c_d126_11eb_b765_0242ac1c0002row10_col0\" class=\"data row10 col0\" >0.278399</td>\n",
              "                        <td id=\"T_0080421c_d126_11eb_b765_0242ac1c0002row10_col1\" class=\"data row10 col1\" >0.619733</td>\n",
              "                        <td id=\"T_0080421c_d126_11eb_b765_0242ac1c0002row10_col2\" class=\"data row10 col2\" >0.116871</td>\n",
              "                        <td id=\"T_0080421c_d126_11eb_b765_0242ac1c0002row10_col3\" class=\"data row10 col3\" >0.501684</td>\n",
              "            </tr>\n",
              "            <tr>\n",
              "                        <th id=\"T_0080421c_d126_11eb_b765_0242ac1c0002level0_row11\" class=\"row_heading level0 row11\" >StreamingTV</th>\n",
              "                        <td id=\"T_0080421c_d126_11eb_b765_0242ac1c0002row11_col0\" class=\"data row11 col0\" >0.358446</td>\n",
              "                        <td id=\"T_0080421c_d126_11eb_b765_0242ac1c0002row11_col1\" class=\"data row11 col1\" >0.842754</td>\n",
              "                        <td id=\"T_0080421c_d126_11eb_b765_0242ac1c0002row11_col2\" class=\"data row11 col2\" >0.174050</td>\n",
              "                        <td id=\"T_0080421c_d126_11eb_b765_0242ac1c0002row11_col3\" class=\"data row11 col3\" >0.609428</td>\n",
              "            </tr>\n",
              "            <tr>\n",
              "                        <th id=\"T_0080421c_d126_11eb_b765_0242ac1c0002level0_row12\" class=\"row_heading level0 row12\" >StreamingMovies</th>\n",
              "                        <td id=\"T_0080421c_d126_11eb_b765_0242ac1c0002row12_col0\" class=\"data row12 col0\" >0.355503</td>\n",
              "                        <td id=\"T_0080421c_d126_11eb_b765_0242ac1c0002row12_col1\" class=\"data row12 col1\" >0.855087</td>\n",
              "                        <td id=\"T_0080421c_d126_11eb_b765_0242ac1c0002row12_col2\" class=\"data row12 col2\" >0.178448</td>\n",
              "                        <td id=\"T_0080421c_d126_11eb_b765_0242ac1c0002row12_col3\" class=\"data row12 col3\" >0.612795</td>\n",
              "            </tr>\n",
              "            <tr>\n",
              "                        <th id=\"T_0080421c_d126_11eb_b765_0242ac1c0002level0_row13\" class=\"row_heading level0 row13\" >PaperlessBilling</th>\n",
              "                        <td id=\"T_0080421c_d126_11eb_b765_0242ac1c0002row13_col0\" class=\"data row13 col0\" >0.580341</td>\n",
              "                        <td id=\"T_0080421c_d126_11eb_b765_0242ac1c0002row13_col1\" class=\"data row13 col1\" >0.716341</td>\n",
              "                        <td id=\"T_0080421c_d126_11eb_b765_0242ac1c0002row13_col2\" class=\"data row13 col2\" >0.526861</td>\n",
              "                        <td id=\"T_0080421c_d126_11eb_b765_0242ac1c0002row13_col3\" class=\"data row13 col3\" >0.682660</td>\n",
              "            </tr>\n",
              "            <tr>\n",
              "                        <th id=\"T_0080421c_d126_11eb_b765_0242ac1c0002level0_row14\" class=\"row_heading level0 row14\" >MonthlyCharges</th>\n",
              "                        <td id=\"T_0080421c_d126_11eb_b765_0242ac1c0002row14_col0\" class=\"data row14 col0\" >62.800000</td>\n",
              "                        <td id=\"T_0080421c_d126_11eb_b765_0242ac1c0002row14_col1\" class=\"data row14 col1\" >100.409918</td>\n",
              "                        <td id=\"T_0080421c_d126_11eb_b765_0242ac1c0002row14_col2\" class=\"data row14 col2\" >48.226123</td>\n",
              "                        <td id=\"T_0080421c_d126_11eb_b765_0242ac1c0002row14_col3\" class=\"data row14 col3\" >82.674074</td>\n",
              "            </tr>\n",
              "            <tr>\n",
              "                        <th id=\"T_0080421c_d126_11eb_b765_0242ac1c0002level0_row15\" class=\"row_heading level0 row15\" >female</th>\n",
              "                        <td id=\"T_0080421c_d126_11eb_b765_0242ac1c0002row15_col0\" class=\"data row15 col0\" >0.473808</td>\n",
              "                        <td id=\"T_0080421c_d126_11eb_b765_0242ac1c0002row15_col1\" class=\"data row15 col1\" >0.505653</td>\n",
              "                        <td id=\"T_0080421c_d126_11eb_b765_0242ac1c0002row15_col2\" class=\"data row15 col2\" >0.504241</td>\n",
              "                        <td id=\"T_0080421c_d126_11eb_b765_0242ac1c0002row15_col3\" class=\"data row15 col3\" >0.493266</td>\n",
              "            </tr>\n",
              "            <tr>\n",
              "                        <th id=\"T_0080421c_d126_11eb_b765_0242ac1c0002level0_row16\" class=\"row_heading level0 row16\" >Contract_Month-to-month</th>\n",
              "                        <td id=\"T_0080421c_d126_11eb_b765_0242ac1c0002row16_col0\" class=\"data row16 col0\" >0.533255</td>\n",
              "                        <td id=\"T_0080421c_d126_11eb_b765_0242ac1c0002row16_col1\" class=\"data row16 col1\" >0.151079</td>\n",
              "                        <td id=\"T_0080421c_d126_11eb_b765_0242ac1c0002row16_col2\" class=\"data row16 col2\" >0.750236</td>\n",
              "                        <td id=\"T_0080421c_d126_11eb_b765_0242ac1c0002row16_col3\" class=\"data row16 col3\" >0.365320</td>\n",
              "            </tr>\n",
              "            <tr>\n",
              "                        <th id=\"T_0080421c_d126_11eb_b765_0242ac1c0002level0_row17\" class=\"row_heading level0 row17\" >Contract_One year</th>\n",
              "                        <td id=\"T_0080421c_d126_11eb_b765_0242ac1c0002row17_col0\" class=\"data row17 col0\" >0.231901</td>\n",
              "                        <td id=\"T_0080421c_d126_11eb_b765_0242ac1c0002row17_col1\" class=\"data row17 col1\" >0.288798</td>\n",
              "                        <td id=\"T_0080421c_d126_11eb_b765_0242ac1c0002row17_col2\" class=\"data row17 col2\" >0.132579</td>\n",
              "                        <td id=\"T_0080421c_d126_11eb_b765_0242ac1c0002row17_col3\" class=\"data row17 col3\" >0.316498</td>\n",
              "            </tr>\n",
              "            <tr>\n",
              "                        <th id=\"T_0080421c_d126_11eb_b765_0242ac1c0002level0_row18\" class=\"row_heading level0 row18\" >Contract_Two year</th>\n",
              "                        <td id=\"T_0080421c_d126_11eb_b765_0242ac1c0002row18_col0\" class=\"data row18 col0\" >0.234844</td>\n",
              "                        <td id=\"T_0080421c_d126_11eb_b765_0242ac1c0002row18_col1\" class=\"data row18 col1\" >0.560123</td>\n",
              "                        <td id=\"T_0080421c_d126_11eb_b765_0242ac1c0002row18_col2\" class=\"data row18 col2\" >0.117185</td>\n",
              "                        <td id=\"T_0080421c_d126_11eb_b765_0242ac1c0002row18_col3\" class=\"data row18 col3\" >0.318182</td>\n",
              "            </tr>\n",
              "            <tr>\n",
              "                        <th id=\"T_0080421c_d126_11eb_b765_0242ac1c0002level0_row19\" class=\"row_heading level0 row19\" >PaymentMethod_Bank transfer (automatic)</th>\n",
              "                        <td id=\"T_0080421c_d126_11eb_b765_0242ac1c0002row19_col0\" class=\"data row19 col0\" >0.257210</td>\n",
              "                        <td id=\"T_0080421c_d126_11eb_b765_0242ac1c0002row19_col1\" class=\"data row19 col1\" >0.338129</td>\n",
              "                        <td id=\"T_0080421c_d126_11eb_b765_0242ac1c0002row19_col2\" class=\"data row19 col2\" >0.134464</td>\n",
              "                        <td id=\"T_0080421c_d126_11eb_b765_0242ac1c0002row19_col3\" class=\"data row19 col3\" >0.294613</td>\n",
              "            </tr>\n",
              "            <tr>\n",
              "                        <th id=\"T_0080421c_d126_11eb_b765_0242ac1c0002level0_row20\" class=\"row_heading level0 row20\" >PaymentMethod_Credit card (automatic)</th>\n",
              "                        <td id=\"T_0080421c_d126_11eb_b765_0242ac1c0002row20_col0\" class=\"data row20 col0\" >0.241907</td>\n",
              "                        <td id=\"T_0080421c_d126_11eb_b765_0242ac1c0002row20_col1\" class=\"data row20 col1\" >0.334018</td>\n",
              "                        <td id=\"T_0080421c_d126_11eb_b765_0242ac1c0002row20_col2\" class=\"data row20 col2\" >0.140119</td>\n",
              "                        <td id=\"T_0080421c_d126_11eb_b765_0242ac1c0002row20_col3\" class=\"data row20 col3\" >0.286195</td>\n",
              "            </tr>\n",
              "            <tr>\n",
              "                        <th id=\"T_0080421c_d126_11eb_b765_0242ac1c0002level0_row21\" class=\"row_heading level0 row21\" >PaymentMethod_Electronic check</th>\n",
              "                        <td id=\"T_0080421c_d126_11eb_b765_0242ac1c0002row21_col0\" class=\"data row21 col0\" >0.328428</td>\n",
              "                        <td id=\"T_0080421c_d126_11eb_b765_0242ac1c0002row21_col1\" class=\"data row21 col1\" >0.282631</td>\n",
              "                        <td id=\"T_0080421c_d126_11eb_b765_0242ac1c0002row21_col2\" class=\"data row21 col2\" >0.360980</td>\n",
              "                        <td id=\"T_0080421c_d126_11eb_b765_0242ac1c0002row21_col3\" class=\"data row21 col3\" >0.322391</td>\n",
              "            </tr>\n",
              "            <tr>\n",
              "                        <th id=\"T_0080421c_d126_11eb_b765_0242ac1c0002level0_row22\" class=\"row_heading level0 row22\" >PaymentMethod_Mailed check</th>\n",
              "                        <td id=\"T_0080421c_d126_11eb_b765_0242ac1c0002row22_col0\" class=\"data row22 col0\" >0.172454</td>\n",
              "                        <td id=\"T_0080421c_d126_11eb_b765_0242ac1c0002row22_col1\" class=\"data row22 col1\" >0.045221</td>\n",
              "                        <td id=\"T_0080421c_d126_11eb_b765_0242ac1c0002row22_col2\" class=\"data row22 col2\" >0.364436</td>\n",
              "                        <td id=\"T_0080421c_d126_11eb_b765_0242ac1c0002row22_col3\" class=\"data row22 col3\" >0.096801</td>\n",
              "            </tr>\n",
              "            <tr>\n",
              "                        <th id=\"T_0080421c_d126_11eb_b765_0242ac1c0002level0_row23\" class=\"row_heading level0 row23\" >InternetTechnology_DSL</th>\n",
              "                        <td id=\"T_0080421c_d126_11eb_b765_0242ac1c0002row23_col0\" class=\"data row23 col0\" >0.392584</td>\n",
              "                        <td id=\"T_0080421c_d126_11eb_b765_0242ac1c0002row23_col1\" class=\"data row23 col1\" >0.187050</td>\n",
              "                        <td id=\"T_0080421c_d126_11eb_b765_0242ac1c0002row23_col2\" class=\"data row23 col2\" >0.321395</td>\n",
              "                        <td id=\"T_0080421c_d126_11eb_b765_0242ac1c0002row23_col3\" class=\"data row23 col3\" >0.462121</td>\n",
              "            </tr>\n",
              "            <tr>\n",
              "                        <th id=\"T_0080421c_d126_11eb_b765_0242ac1c0002level0_row24\" class=\"row_heading level0 row24\" >InternetTechnology_Fiber optic</th>\n",
              "                        <td id=\"T_0080421c_d126_11eb_b765_0242ac1c0002row24_col0\" class=\"data row24 col0\" >0.404944</td>\n",
              "                        <td id=\"T_0080421c_d126_11eb_b765_0242ac1c0002row24_col1\" class=\"data row24 col1\" >0.812950</td>\n",
              "                        <td id=\"T_0080421c_d126_11eb_b765_0242ac1c0002row24_col2\" class=\"data row24 col2\" >0.307257</td>\n",
              "                        <td id=\"T_0080421c_d126_11eb_b765_0242ac1c0002row24_col3\" class=\"data row24 col3\" >0.537879</td>\n",
              "            </tr>\n",
              "            <tr>\n",
              "                        <th id=\"T_0080421c_d126_11eb_b765_0242ac1c0002level0_row25\" class=\"row_heading level0 row25\" >Churn</th>\n",
              "                        <td id=\"T_0080421c_d126_11eb_b765_0242ac1c0002row25_col0\" class=\"data row25 col0\" >0.227781</td>\n",
              "                        <td id=\"T_0080421c_d126_11eb_b765_0242ac1c0002row25_col1\" class=\"data row25 col1\" >0.132580</td>\n",
              "                        <td id=\"T_0080421c_d126_11eb_b765_0242ac1c0002row25_col2\" class=\"data row25 col2\" >0.360666</td>\n",
              "                        <td id=\"T_0080421c_d126_11eb_b765_0242ac1c0002row25_col3\" class=\"data row25 col3\" >0.172559</td>\n",
              "            </tr>\n",
              "    </tbody></table>"
            ],
            "text/plain": [
              "<pandas.io.formats.style.Styler at 0x7f7eea956dd0>"
            ]
          },
          "metadata": {
            "tags": []
          },
          "execution_count": 15
        }
      ]
    },
    {
      "cell_type": "markdown",
      "metadata": {
        "id": "x_F6Xmv-YMV2"
      },
      "source": [
        "**From these analysis**:\n",
        "\n",
        " - Cluster 0:\n",
        "  - The customers are younger than clusters 1 and 3\n",
        "  - Has more phone services than internet services\n",
        "  - Has usually one phone line\n",
        "  - Customers with approximately 3 years of tenure\n",
        "  - Has a low term contract (monthly)\n",
        "  - Uses an electronic check payment method\n",
        "  - Uses as much fiber optic internet as DSL internet\n",
        "  - Spends an average of 62 dollars per month\n",
        "\n",
        " - Cluster 1:\n",
        "  - Higher percentage of senior citizens than other clusters\n",
        "  - Higher percentage of married people with dependents\n",
        "  - Higher tenure (more than 5 years)\n",
        "  - Has all the internet and phone services\n",
        "  - Has multiple phone lines \n",
        "  - Uses a fiber optic internet\n",
        "  - Higher monthly charges than others clusters\n",
        "  - Spends an average of 100 dollars per month\n",
        "  - Has paperless billing\n",
        "  - High use of TV and movie streaming\n",
        "  - Has a long term contract (2 years)\n",
        "  - Uses an automatic payment method\n",
        "  - Less propensity to churn\n",
        "\n",
        " - Cluster 2:\n",
        "  - Younger customers\n",
        "  - Has more phone services than internet services\n",
        "  - Has one phone line\n",
        "  - Customers with less than 1 year of tenure\n",
        "  - Has a low term contract (monthly)\n",
        "  - Uses an electronic check and mailed check payment method\n",
        "  - Uses as much fiber optic internet as DSL internet\n",
        "  - Spends an average of 48 dollars per month\n",
        "  - High propensity to churn\n",
        "\n",
        " - Cluster 3:\n",
        "  - Younger customers\n",
        "  - Has more internet services than phone services\n",
        "  - Has more than one phone line\n",
        "  - Customers with 4 years of tenure\n",
        "  - Has a mid term contract (1 year)\n",
        "  - Uses an electronic check payment method\n",
        "  - Uses a fiber optic internet\n",
        "  - Spends an average of 82 dollars per month"
      ],
      "id": "x_F6Xmv-YMV2"
    }
  ]
}